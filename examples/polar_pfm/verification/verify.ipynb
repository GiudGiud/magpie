{
 "cells": [
  {
   "cell_type": "code",
   "execution_count": null,
   "metadata": {},
   "outputs": [],
   "source": [
    "%config InlineBackend.figure_formats = ['png']\n",
    "%matplotlib inline\n",
    "import os\n",
    "import sys\n",
    "import math\n",
    "import glob\n",
    "import shutil\n",
    "import tempfile\n",
    "import numpy as np\n",
    "import pandas as pd\n",
    "import matplotlib.pyplot as plt\n",
    "plt.rcParams.update({'font.size': 18}) # defaults to 10.0"
   ]
  },
  {
   "cell_type": "code",
   "execution_count": null,
   "metadata": {},
   "outputs": [],
   "source": [
    "def ffmpeg(basename, outname):\n",
    "    cmd = \"ffmpeg -y -i %s_%%04d.png -vf \\\"scale=trunc(iw/2)*2:trunc(ih/2)*2\\\" -pix_fmt yuv420p %s\" % (basename, outname)\n",
    "    os.system(cmd)"
   ]
  },
  {
   "cell_type": "code",
   "execution_count": null,
   "metadata": {},
   "outputs": [],
   "source": [
    "def animate(directory, name):\n",
    "    tmp = tempfile.mkdtemp()\n",
    "    files = glob.glob(os.path.join(directory, name) + \"_????.csv\")\n",
    "    files.sort()\n",
    "    print(tmp)\n",
    "\n",
    "    for file in files:\n",
    "        base = os.path.basename(file)\n",
    "        \n",
    "        df = pd.read_csv(file)\n",
    "        fig = plt.figure(figsize=(12,9))\n",
    "        ax = fig.gca()\n",
    "        x = df['x']\n",
    "        ax.plot(x,df['theta'], 'r-',linewidth=3.0, label=r'$\\theta$')\n",
    "        ax.plot(x,df['Upsilon'], 'b-',linewidth=3.0, label=r'$\\Upsilon$')\n",
    "        plt.title(name)\n",
    "        ax.legend(loc='center right')\n",
    "        ax.set_xlabel('Position')\n",
    "        plt.savefig(os.path.join(tmp, base[:-3] + \"png\"), dpi=150, bbox_inches='tight')\n",
    "        plt.close('all')\n",
    "\n",
    "    # make video\n",
    "    ffmpeg(os.path.join(tmp, name), name + \".mp4\")\n",
    "\n",
    "    # cleanup\n",
    "    shutil.rmtree(tmp)"
   ]
  },
  {
   "cell_type": "code",
   "execution_count": null,
   "metadata": {},
   "outputs": [],
   "source": [
    "animate(\"out\", \"run_1_1_out\")"
   ]
  },
  {
   "cell_type": "code",
   "execution_count": null,
   "metadata": {},
   "outputs": [],
   "source": [
    "animate(\"out\", \"run_2_1_out\")"
   ]
  },
  {
   "cell_type": "code",
   "execution_count": null,
   "metadata": {},
   "outputs": [],
   "source": [
    "animate(\"out\", \"run_4_1_out\")"
   ]
  },
  {
   "cell_type": "code",
   "execution_count": null,
   "metadata": {},
   "outputs": [],
   "source": [
    "animate(\"out\", \"run_8_1_out\")"
   ]
  },
  {
   "cell_type": "code",
   "execution_count": null,
   "metadata": {},
   "outputs": [],
   "source": [
    "animate(\"out\", \"run_2_0.1_out\")"
   ]
  },
  {
   "cell_type": "code",
   "execution_count": null,
   "metadata": {},
   "outputs": [],
   "source": [
    "animate(\"out\", \"run_4_2_out\")"
   ]
  },
  {
   "cell_type": "code",
   "execution_count": null,
   "metadata": {},
   "outputs": [],
   "source": [
    "animate(\"out\", \"run_2.0_2.0_432_out\")"
   ]
  },
  {
   "cell_type": "code",
   "execution_count": null,
   "metadata": {},
   "outputs": [],
   "source": [
    "animate(\"out\", \"run_2.0_1.2_432_out\")"
   ]
  },
  {
   "cell_type": "code",
   "execution_count": null,
   "metadata": {},
   "outputs": [],
   "source": [
    "def find_limits(a1, a2, t):\n",
    "    # error check\n",
    "    if len(a1) != len(a2):\n",
    "        return None\n",
    "    \n",
    "    l0 = None\n",
    "    l1 = None\n",
    "    # lower limit\n",
    "    if a2[0] > t:\n",
    "        l0 = a1[0]\n",
    "    else:\n",
    "        for i in range(len(a1)-1):\n",
    "            if a2[i+1] > t:\n",
    "                f = (t-a2[i])/(a2[i+1]-a2[i])\n",
    "                l0 = f*(a1[i+1]-a1[i]) + a1[i]\n",
    "                break\n",
    "    #upper limit\n",
    "    if a2[-1] > t:\n",
    "        l1 = a1[-1]\n",
    "    else:\n",
    "        for i in range(len(a1)-1):\n",
    "            if a2[-2-i] > t:\n",
    "                f = (t-a2[-1-i])/(a2[-2-i]-a2[-1-i])\n",
    "                l1 = f*(a1[-2-i]-a1[-1-i]) + a1[-1-i]\n",
    "                break\n",
    "\n",
    "    # return limits\n",
    "    if l0 is None or l1 is None:\n",
    "        return None\n",
    "    return (l0, l1)"
   ]
  },
  {
   "cell_type": "code",
   "execution_count": null,
   "metadata": {},
   "outputs": [],
   "source": [
    "def plot_files(files):\n",
    "    files.sort()\n",
    "\n",
    "    fig = plt.figure(figsize=(12,9))\n",
    "    ax = fig.gca()\n",
    "    ax.set_xlabel('Position')\n",
    "    ax.xlim(12,18)\n",
    "\n",
    "    for file in files:\n",
    "        df = pd.read_csv(file)\n",
    "        x = df['x']\n",
    "        ax.plot(x,df['Upsilon'], '-', linewidth=3.0, label=file)\n",
    "        ax.plot(x,df['theta'], '.', linewidth=3.0, label=file)\n",
    "        ax.legend(loc='center right')\n",
    "        \n",
    "#     plt.savefig(os.path.join(tmp, base[:-3] + \"png\"), dpi=150, bbox_inches='tight')\n",
    "#     plt.close('all')"
   ]
  },
  {
   "cell_type": "code",
   "execution_count": null,
   "metadata": {},
   "outputs": [],
   "source": [
    "def plot_glob(g):\n",
    "    files = glob.glob(g)\n",
    "    plot_files(files)"
   ]
  },
  {
   "cell_type": "code",
   "execution_count": null,
   "metadata": {},
   "outputs": [],
   "source": [
    "plot_files([\"out/run_2.0_1.2_432_out_0042.csv\", \"out/run_2.0_2.0_432_out_0038.csv\"])"
   ]
  },
  {
   "cell_type": "code",
   "execution_count": null,
   "metadata": {},
   "outputs": [],
   "source": [
    "# animation\n",
    "tmp = tempfile.mkdtemp()\n",
    "print (tmp)\n",
    "\n",
    "# animation 2\n",
    "for frame in range(235):\n",
    "    marmot = np.transpose(np.loadtxt(\"multiphase_diffusion2_out_var_%04d.csv\" % frame, delimiter=\",\", skiprows=1))\n",
    "    fig = plt.figure(figsize=(12,9))\n",
    "    ax = fig.gca()\n",
    "    # phases\n",
    "    ax.plot(marmot[0],marmot[9], 'r-',linewidth=3.0, label=r'$\\eta_1$ $\\delta$-UZr')\n",
    "    ax.plot(marmot[0],marmot[10], 'g-',linewidth=3.0, label=r'$\\eta_2$ $\\alpha$-U')\n",
    "    ax.plot(marmot[0],marmot[11], 'b-',linewidth=3.0, label=r'$\\eta_3$ $\\alpha$-Zr')\n",
    "    # ranges\n",
    "    #     range_delta = find_limits(marmot[0], marmot[9], 0.5)\n",
    "    #     range_U     = find_limits(marmot[0], marmot[10], 0.5)\n",
    "    #     range_Zr    = find_limits(marmot[0], marmot[11], 0.5)\n",
    "    #     if range_delta is not None:\n",
    "    #         ax.axvspan(range_delta[0], range_delta[1], alpha=0.25, color='red')\n",
    "    #     if range_U is not None:\n",
    "    #         ax.axvspan(range_U[0], range_U[1], alpha=0.25, color='green')\n",
    "    #     if range_Zr is not None:\n",
    "    #         ax.axvspan(range_Zr[0], range_Zr[1], alpha=0.25, color='blue')\n",
    "    # concentrations\n",
    "    ax.plot(marmot[0],marmot[8], 'y-',linewidth=3.0, label='c')\n",
    "    ax.plot(marmot[0],marmot[4], 'r--',linewidth=3.0, label=r'$c_{1a}$')\n",
    "    ax.plot(marmot[0],marmot[5], 'b--',linewidth=3.0, label=r'$c_{1b}$')\n",
    "    plt.title(r'UZr $\\delta$-phase growth')\n",
    "    plt.xlim(-24.5,24.5)\n",
    "    ax.legend(loc='upper left', bbox_to_anchor=(0.05,0.9))\n",
    "    ax.set_xlabel('Position')\n",
    "    ax.set_ylabel('Order parameter')\n",
    "    plt.savefig(os.path.join(tmp, \"multiphase_diffusion2_out2_var_%04d.png\" % frame), dpi=150, bbox_inches='tight')\n",
    "    plt.close('all')\n",
    "\n",
    "# make video\n",
    "#ffmpeg(os.path.join(tmp, \"multiphase_diffusion2_out2_var\"), \"multiphase_diffusion2_phases.mp4\")\n",
    "             \n",
    "# cleanup\n",
    "#shutil.rmtree(tmp)"
   ]
  },
  {
   "cell_type": "code",
   "execution_count": null,
   "metadata": {},
   "outputs": [],
   "source": [
    "tmp = tempfile.mkdtemp()\n",
    "#patterns = [\"out/steady_theta_2.0_2.0_432_sol_%04d.csv\", \"out/steady_theta_2.0_2.0_432_ana_%04d.csv\"]\n",
    "patterns = [\"out/steady_upsilon_2.0_2.0_532.14_sol_%04d.csv\", \"out/steady_upsilon_2.0_2.0_532.14_ana_%04d.csv\"]\n",
    "\n",
    "\n",
    "xcols = ['x', 'x']\n",
    "# ycols = ['theta', 'theta']\n",
    "ycols = ['Upsilon', 'Upsilon']\n",
    "labels = ['numerical', 'analytical']\n",
    "line = ['-r', '--b']\n",
    "\n",
    "png = \"out_%04d.png\"\n",
    "mp4 = \"steady2.mp4\"\n",
    "n = 1\n",
    "\n",
    "while True:\n",
    "    d = []\n",
    "    for p in patterns:\n",
    "        file = p % n\n",
    "        if not os.path.isfile(file):\n",
    "            break\n",
    "        # load data\n",
    "        d.append(pd.read_csv(file))\n",
    "    else:\n",
    "        # do all work with loaded data\n",
    "        print(\"render\")\n",
    "        n += 1\n",
    "\n",
    "        fig = plt.figure(figsize=(12,9))\n",
    "        ax = fig.gca()\n",
    "        for i in range(len(d)):\n",
    "            ax.plot(d[i][xcols[i]], d[i][ycols[i]], line[i],linewidth=3.0, label=labels[i])\n",
    "    \n",
    "        #         plt.title(name)\n",
    "        ax.legend(loc='center right')\n",
    "        ax.set_xlabel('Position')\n",
    "        plt.savefig(os.path.join(tmp, png % n), dpi=150, bbox_inches='tight')\n",
    "        plt.close('all')\n",
    "\n",
    "        continue\n",
    "    break\n",
    "        \n",
    "# make video\n",
    "cmd = \"ffmpeg -y -i %s -vf \\\"scale=trunc(iw/2)*2:trunc(ih/2)*2\\\" -pix_fmt yuv420p %s\" % (os.path.join(tmp, png), mp4)\n",
    "os.system(cmd)\n",
    "\n",
    "# cleanup\n",
    "shutil.rmtree(tmp)"
   ]
  },
  {
   "cell_type": "code",
   "execution_count": null,
   "metadata": {},
   "outputs": [],
   "source": [
    "files1 = glob.glob(\"out/velocity_theta_1.933_1_???.csv\")\n",
    "files1.sort()\n",
    "\n",
    "x1 = []\n",
    "y1 = []\n",
    "ay1 = []\n",
    "for f in files1:\n",
    "    d = pd.read_csv(f)\n",
    "    T = float(f.split('_')[-1].split('.')[0])\n",
    "    x1.append(T)\n",
    "    y1.append(np.average(list(d['dpos'][-20:]/d['dt'][-20:]))*1e-9)\n",
    "    ay1.append(np.average(list(d['vanalytic'][-20:]))*1e-9)\n",
    "\n",
    "m1,b1 = np.polyfit(x1, ay1, 1) \n",
    "\n",
    "files2 = glob.glob(\"out/velocity_upsilon_1.933_1_???.csv\")\n",
    "files2.sort()\n",
    "\n",
    "x2 = []\n",
    "y2 = []\n",
    "ay2 = []\n",
    "for f in files2:\n",
    "    d = pd.read_csv(f)\n",
    "    T = float(f.split('_')[-1].split('.')[0])\n",
    "    x2.append(T)\n",
    "    y2.append(np.average(list(d['dpos'][-100:]/d['dt'][-100:]))*1e-9)\n",
    "    ay2.append(np.average(list(d['vanalytic'][-100:]))*1e-9)\n",
    "\n",
    "m2,b2 = np.polyfit(x2, ay2, 1) \n",
    "\n",
    "fig = plt.figure(figsize=(12,9))\n",
    "ax = fig.gca()\n",
    "\n",
    "ax.plot(x1, y1, 'o',linewidth=3.0, label=r'$v_\\vartheta$ numerical')\n",
    "ax.plot(x1, m1*np.array(x1)+b1, '-', label=r'$v_\\vartheta$ analytical')\n",
    "\n",
    "ax.plot(x2, y2, 'o',linewidth=3.0, label=r'$v_\\Upsilon$ numerical')\n",
    "ax.plot(x2, m2*np.array(x2)+b2, '-', label=r'$v_\\Upsilon$ analytical')\n",
    "\n",
    "ax.legend(loc='lower right')\n",
    "ax.set_xlabel('Temperature [K]')\n",
    "ax.set_ylabel('Velocity [m/s]')\n",
    "\n",
    "plt.savefig('velocity.png', dpi=150, bbox_inches='tight')\n",
    "#plt.close('all')"
   ]
  },
  {
   "cell_type": "code",
   "execution_count": null,
   "metadata": {},
   "outputs": [],
   "source": [
    "files1 = glob.glob(\"out/velocity_theta_1.933_1_???.csv\")\n",
    "files1.sort()\n",
    "\n",
    "fig = plt.figure(figsize=(12,9))\n",
    "ax = fig.gca()\n",
    "for f in files1:\n",
    "    d = pd.read_csv(f)\n",
    "    T = float(f.split('_')[-1].split('.')[0])\n",
    "    ax.plot(d['dpos']/d['dt'], '*',label=\"T=%d\" % T)\n",
    "\n",
    "ax.legend(loc='upper right')\n",
    "ax.set_xlabel('step')\n",
    "ax.set_ylabel('Velocity [m/s]')\n"
   ]
  },
  {
   "cell_type": "code",
   "execution_count": null,
   "metadata": {},
   "outputs": [],
   "source": [
    "files1 = glob.glob(\"out/velocity_upsilon_1.933_1_???.csv\")\n",
    "files1.sort()\n",
    "\n",
    "fig = plt.figure(figsize=(12,9))\n",
    "ax = fig.gca()\n",
    "for f in files1:\n",
    "    d = pd.read_csv(f)\n",
    "    T = float(f.split('_')[-1].split('.')[0])\n",
    "    ax.plot(d['dpos']/d['dt'], '*',label=\"T=%d\" % T)\n",
    "\n",
    "ax.legend(loc='lower right')\n",
    "ax.set_xlabel('step')\n",
    "ax.set_ylabel('Velocity [m/s]')\n"
   ]
  },
  {
   "cell_type": "code",
   "execution_count": null,
   "metadata": {},
   "outputs": [],
   "source": [
    "files1 = glob.glob(\"out/velocity_theta_1.933_1_392_op_*.csv\")\n",
    "files1.sort()\n",
    "\n",
    "fig = plt.figure(figsize=(22,9))\n",
    "ax = fig.gca()\n",
    "for f in files1:\n",
    "    d = pd.read_csv(f)\n",
    "    T = float(f.split('_')[-1].split('.')[0])\n",
    "    ax.plot(d['x'], d['theta'], 'r')\n",
    "    ax.plot(d['x'], d['Upsilon'], 'b')\n"
   ]
  },
  {
   "cell_type": "code",
   "execution_count": null,
   "metadata": {},
   "outputs": [],
   "source": [
    "files1 = glob.glob(\"out/velocity_upsilon_1.933_1_392_op_*0.csv\")\n",
    "files1.sort()\n",
    "\n",
    "fig = plt.figure(figsize=(22,9))\n",
    "ax = fig.gca()\n",
    "for f in files1:\n",
    "    d = pd.read_csv(f)\n",
    "    T = float(f.split('_')[-1].split('.')[0])\n",
    "    ax.plot(d['x'], d['theta'], 'r')\n",
    "    ax.plot(d['x'], d['Upsilon'], 'b')\n"
   ]
  },
  {
   "cell_type": "code",
   "execution_count": null,
   "metadata": {},
   "outputs": [],
   "source": []
  }
 ],
 "metadata": {
  "kernelspec": {
   "display_name": "Python 3",
   "language": "python",
   "name": "python3"
  },
  "language_info": {
   "codemirror_mode": {
    "name": "ipython",
    "version": 3
   },
   "file_extension": ".py",
   "mimetype": "text/x-python",
   "name": "python",
   "nbconvert_exporter": "python",
   "pygments_lexer": "ipython3",
   "version": "3.7.6"
  }
 },
 "nbformat": 4,
 "nbformat_minor": 4
}
